{
 "cells": [
  {
   "cell_type": "markdown",
   "source": [
    "# Creating a Chat Object\n",
    "- parameters:\n",
    "    1. file = 'path_to_file.txt'\n",
    "- optional parameters:\n",
    "    1. time_format = 'HH:MM' (only European supported at this time)\n",
    "    2. remove_last_names = True\n",
    "\n",
    "- Additional: Make sure to delete all rows in .txt file containing messages from whatsapp itself. e.g. 'user changed phone number', 'this chat is encrypted..'\n",
    "- Those lines are usually the top one or two lines"
   ],
   "metadata": {
    "collapsed": false,
    "pycharm": {
     "name": "#%% md\n"
    }
   }
  },
  {
   "cell_type": "code",
   "execution_count": null,
   "outputs": [],
   "source": [
    "from src.whatsappevaluator import Chat\n",
    "Conversation = Chat(\"link_to_whatsapp_backup.txt\")\n"
   ],
   "metadata": {
    "collapsed": false,
    "pycharm": {
     "name": "#%%\n"
    }
   }
  },
  {
   "cell_type": "markdown",
   "source": [
    "# Day with the highest Chat activity"
   ],
   "metadata": {
    "collapsed": false,
    "pycharm": {
     "name": "#%% md\n"
    }
   }
  },
  {
   "cell_type": "code",
   "execution_count": null,
   "outputs": [],
   "source": [
    "Conversation.highest_activity()"
   ],
   "metadata": {
    "collapsed": false,
    "pycharm": {
     "name": "#%%\n"
    }
   }
  },
  {
   "cell_type": "markdown",
   "source": [
    "# Absolute Message History\n",
    "- optional parameters:\n",
    "    1. xlim = ('YYYY-MM-DD HH:MM:SS', 'YYYY-MM-DD HH:MM:SS')\n",
    "    2. speaker_order = ['Speaker 1', 'Speaker 2'] (must be the correct names in the dataframe)\n",
    "    3. save = 'location/filename.file_extension'"
   ],
   "metadata": {
    "collapsed": false,
    "pycharm": {
     "name": "#%% md\n"
    }
   }
  },
  {
   "cell_type": "code",
   "execution_count": null,
   "outputs": [],
   "source": [
    "Conversation.plot_absolute_history()"
   ],
   "metadata": {
    "collapsed": false,
    "pycharm": {
     "name": "#%%\n"
    }
   }
  },
  {
   "cell_type": "markdown",
   "source": [
    "# Monthly Message History\n",
    "- optional parameters:\n",
    "    1. xlim = ('YYYY-MM-DD HH:MM:SS', 'YYYY-MM-DD HH:MM:SS')\n",
    "    2. speaker_order = ['Speaker 1', 'Speaker 2'] (must be the correct names in the dataframe)\n",
    "    3. save = 'location/filename.file_extension'"
   ],
   "metadata": {
    "collapsed": false,
    "pycharm": {
     "name": "#%% md\n"
    }
   }
  },
  {
   "cell_type": "code",
   "execution_count": null,
   "outputs": [],
   "source": [
    "Conversation.plot_monthly_messages()"
   ],
   "metadata": {
    "collapsed": false,
    "pycharm": {
     "name": "#%%\n"
    }
   }
  },
  {
   "cell_type": "markdown",
   "source": [
    "# Hourly Message History\n",
    "- optional parameters:\n",
    "    1. speaker_order = ['Speaker 1', 'Speaker 2'] (must be the correct names in the dataframe)\n",
    "    2. save = 'location/filename.file_extension'"
   ],
   "metadata": {
    "collapsed": false,
    "pycharm": {
     "name": "#%% md\n"
    }
   }
  },
  {
   "cell_type": "code",
   "execution_count": null,
   "outputs": [],
   "source": [
    "Conversation.plot_hourly_messages()"
   ],
   "metadata": {
    "collapsed": false,
    "pycharm": {
     "name": "#%%\n"
    }
   }
  },
  {
   "cell_type": "markdown",
   "source": [
    "# Daily Emoji Usage\n",
    "- optional parameters:\n",
    "    1. speaker_order = ['Speaker 1', 'Speaker 2'] (must be the correct names in the dataframe)\n",
    "    2. save = 'location/filename.file_extension'"
   ],
   "metadata": {
    "collapsed": false,
    "pycharm": {
     "name": "#%% md\n"
    }
   }
  },
  {
   "cell_type": "code",
   "execution_count": null,
   "outputs": [],
   "source": [
    "Conversation.plot_daily_emoji_usage()"
   ],
   "metadata": {
    "collapsed": false,
    "pycharm": {
     "name": "#%%\n"
    }
   }
  },
  {
   "cell_type": "markdown",
   "source": [
    "# Daily Messages\n",
    "- optional parameters:\n",
    "    1. speaker_order = ['Speaker 1', 'Speaker 2'] (must be the correct names in the dataframe)\n",
    "    2. save = 'location/filename.file_extension'"
   ],
   "metadata": {
    "collapsed": false,
    "pycharm": {
     "name": "#%% md\n"
    }
   }
  },
  {
   "cell_type": "code",
   "execution_count": null,
   "outputs": [],
   "source": [
    "Conversation.plot_daily_messages()"
   ],
   "metadata": {
    "collapsed": false,
    "pycharm": {
     "name": "#%%\n"
    }
   }
  },
  {
   "cell_type": "markdown",
   "source": [
    "# Daily Message Lengths\n",
    "- optional parameters:\n",
    "    1. speaker_order = ['Speaker 1', 'Speaker 2'] (must be the correct names in the dataframe)\n",
    "    2. save = 'location/filename.file_extension'"
   ],
   "metadata": {
    "collapsed": false,
    "pycharm": {
     "name": "#%% md\n"
    }
   }
  },
  {
   "cell_type": "code",
   "execution_count": null,
   "outputs": [],
   "source": [
    "Conversation.plot_daily_messages_lengths()"
   ],
   "metadata": {
    "collapsed": false,
    "pycharm": {
     "name": "#%%\n"
    }
   }
  }
 ],
 "metadata": {
  "kernelspec": {
   "display_name": "Python 3",
   "language": "python",
   "name": "python3"
  },
  "language_info": {
   "codemirror_mode": {
    "name": "ipython",
    "version": 2
   },
   "file_extension": ".py",
   "mimetype": "text/x-python",
   "name": "python",
   "nbconvert_exporter": "python",
   "pygments_lexer": "ipython2",
   "version": "2.7.6"
  }
 },
 "nbformat": 4,
 "nbformat_minor": 0
}